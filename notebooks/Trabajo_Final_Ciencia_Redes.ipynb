{
 "cells": [
  {
   "cell_type": "code",
   "execution_count": 1,
   "id": "598e271b-84b6-4724-b5b0-8ee1998ce515",
   "metadata": {},
   "outputs": [],
   "source": [
    "import pandas as pd\n",
    "import matplotlib.pyplot as plt\n",
    "import numpy as np\n",
    "import networkx as nx"
   ]
  },
  {
   "cell_type": "markdown",
   "id": "2a113bc7-240d-4d65-9225-5aab3e87248d",
   "metadata": {},
   "source": [
    "### Carga de datos destinos turísticos Los Ríos"
   ]
  },
  {
   "cell_type": "code",
   "execution_count": 4,
   "id": "6c6b0f18-a64d-4e80-88f8-8ebe5c01fa0a",
   "metadata": {},
   "outputs": [],
   "source": [
    "datos = pd.read_excel('consolidado_reviews_Los_Ríos.xlsx').reset_index()\n",
    "datos = datos.rename({'index':'Id'}, axis='columns')"
   ]
  },
  {
   "cell_type": "code",
   "execution_count": 5,
   "id": "2cc10507-1328-474d-9ab1-be4099ecefe7",
   "metadata": {},
   "outputs": [
    {
     "data": {
      "text/html": [
       "<div>\n",
       "<style scoped>\n",
       "    .dataframe tbody tr th:only-of-type {\n",
       "        vertical-align: middle;\n",
       "    }\n",
       "\n",
       "    .dataframe tbody tr th {\n",
       "        vertical-align: top;\n",
       "    }\n",
       "\n",
       "    .dataframe thead th {\n",
       "        text-align: right;\n",
       "    }\n",
       "</style>\n",
       "<table border=\"1\" class=\"dataframe\">\n",
       "  <thead>\n",
       "    <tr style=\"text-align: right;\">\n",
       "      <th></th>\n",
       "      <th>Id</th>\n",
       "      <th>N</th>\n",
       "      <th>place_id</th>\n",
       "      <th>name</th>\n",
       "      <th>id_review</th>\n",
       "      <th>user_name</th>\n",
       "      <th>id_usuario</th>\n",
       "      <th>stars</th>\n",
       "      <th>link_review</th>\n",
       "      <th>fecha</th>\n",
       "      <th>review</th>\n",
       "    </tr>\n",
       "  </thead>\n",
       "  <tbody>\n",
       "    <tr>\n",
       "      <th>0</th>\n",
       "      <td>0</td>\n",
       "      <td>89</td>\n",
       "      <td>ChIJS5lcdLBVEZYRFa_Y_RuCV1g</td>\n",
       "      <td>Restaurant Puerto Fuy</td>\n",
       "      <td>ChdDSUhNMG9nS0VJQ0FnSURYbzgzN29BRRAB</td>\n",
       "      <td>angie cardona</td>\n",
       "      <td>103326493536057771398</td>\n",
       "      <td>5</td>\n",
       "      <td>https://www.google.com/maps/contrib/1033264935...</td>\n",
       "      <td>2024-10-30T17:50:02.384466</td>\n",
       "      <td>Excelente atención, la comida fue deliciosa!! ...</td>\n",
       "    </tr>\n",
       "    <tr>\n",
       "      <th>1</th>\n",
       "      <td>1</td>\n",
       "      <td>89</td>\n",
       "      <td>ChIJS5lcdLBVEZYRFa_Y_RuCV1g</td>\n",
       "      <td>Restaurant Puerto Fuy</td>\n",
       "      <td>ChdDSUhNMG9nS0VJQ0FnSURYMmJPampnRRAB</td>\n",
       "      <td>Fabian Aruani</td>\n",
       "      <td>117348510194376829755</td>\n",
       "      <td>3</td>\n",
       "      <td>https://www.google.com/maps/contrib/1173485101...</td>\n",
       "      <td>2024-10-29T11:17:02.664924</td>\n",
       "      <td>NaN</td>\n",
       "    </tr>\n",
       "    <tr>\n",
       "      <th>2</th>\n",
       "      <td>2</td>\n",
       "      <td>89</td>\n",
       "      <td>ChIJS5lcdLBVEZYRFa_Y_RuCV1g</td>\n",
       "      <td>Restaurant Puerto Fuy</td>\n",
       "      <td>ChZDSUhNMG9nS0VJQ0FnSURYb01lUkFREAE</td>\n",
       "      <td>Nataniel Lavado</td>\n",
       "      <td>115312318540115775891</td>\n",
       "      <td>5</td>\n",
       "      <td>https://www.google.com/maps/contrib/1153123185...</td>\n",
       "      <td>2024-10-22T20:31:57.541034</td>\n",
       "      <td>Atendido por sus dueños exelente</td>\n",
       "    </tr>\n",
       "    <tr>\n",
       "      <th>3</th>\n",
       "      <td>3</td>\n",
       "      <td>89</td>\n",
       "      <td>ChIJS5lcdLBVEZYRFa_Y_RuCV1g</td>\n",
       "      <td>Restaurant Puerto Fuy</td>\n",
       "      <td>ChdDSUhNMG9nS0VJQ0FnSUNYLTdiY2tBRRAB</td>\n",
       "      <td>Leonardo Enrique García Riquelme</td>\n",
       "      <td>100519139671583772741</td>\n",
       "      <td>4</td>\n",
       "      <td>https://www.google.com/maps/contrib/1005191396...</td>\n",
       "      <td>2024-10-21T02:57:42.891824</td>\n",
       "      <td>NaN</td>\n",
       "    </tr>\n",
       "    <tr>\n",
       "      <th>4</th>\n",
       "      <td>4</td>\n",
       "      <td>89</td>\n",
       "      <td>ChIJS5lcdLBVEZYRFa_Y_RuCV1g</td>\n",
       "      <td>Restaurant Puerto Fuy</td>\n",
       "      <td>ChdDSUhNMG9nS0VJQ0FnSUNYdTdlYTZBRRAB</td>\n",
       "      <td>Andres Herrera</td>\n",
       "      <td>117104494720799796058</td>\n",
       "      <td>5</td>\n",
       "      <td>https://www.google.com/maps/contrib/1171044947...</td>\n",
       "      <td>2024-10-21T01:39:11.791360</td>\n",
       "      <td>NaN</td>\n",
       "    </tr>\n",
       "  </tbody>\n",
       "</table>\n",
       "</div>"
      ],
      "text/plain": [
       "   Id   N                     place_id                   name  \\\n",
       "0   0  89  ChIJS5lcdLBVEZYRFa_Y_RuCV1g  Restaurant Puerto Fuy   \n",
       "1   1  89  ChIJS5lcdLBVEZYRFa_Y_RuCV1g  Restaurant Puerto Fuy   \n",
       "2   2  89  ChIJS5lcdLBVEZYRFa_Y_RuCV1g  Restaurant Puerto Fuy   \n",
       "3   3  89  ChIJS5lcdLBVEZYRFa_Y_RuCV1g  Restaurant Puerto Fuy   \n",
       "4   4  89  ChIJS5lcdLBVEZYRFa_Y_RuCV1g  Restaurant Puerto Fuy   \n",
       "\n",
       "                              id_review                         user_name  \\\n",
       "0  ChdDSUhNMG9nS0VJQ0FnSURYbzgzN29BRRAB                     angie cardona   \n",
       "1  ChdDSUhNMG9nS0VJQ0FnSURYMmJPampnRRAB                     Fabian Aruani   \n",
       "2   ChZDSUhNMG9nS0VJQ0FnSURYb01lUkFREAE                   Nataniel Lavado   \n",
       "3  ChdDSUhNMG9nS0VJQ0FnSUNYLTdiY2tBRRAB  Leonardo Enrique García Riquelme   \n",
       "4  ChdDSUhNMG9nS0VJQ0FnSUNYdTdlYTZBRRAB                    Andres Herrera   \n",
       "\n",
       "              id_usuario  stars  \\\n",
       "0  103326493536057771398      5   \n",
       "1  117348510194376829755      3   \n",
       "2  115312318540115775891      5   \n",
       "3  100519139671583772741      4   \n",
       "4  117104494720799796058      5   \n",
       "\n",
       "                                         link_review  \\\n",
       "0  https://www.google.com/maps/contrib/1033264935...   \n",
       "1  https://www.google.com/maps/contrib/1173485101...   \n",
       "2  https://www.google.com/maps/contrib/1153123185...   \n",
       "3  https://www.google.com/maps/contrib/1005191396...   \n",
       "4  https://www.google.com/maps/contrib/1171044947...   \n",
       "\n",
       "                        fecha  \\\n",
       "0  2024-10-30T17:50:02.384466   \n",
       "1  2024-10-29T11:17:02.664924   \n",
       "2  2024-10-22T20:31:57.541034   \n",
       "3  2024-10-21T02:57:42.891824   \n",
       "4  2024-10-21T01:39:11.791360   \n",
       "\n",
       "                                              review  \n",
       "0  Excelente atención, la comida fue deliciosa!! ...  \n",
       "1                                                NaN  \n",
       "2                   Atendido por sus dueños exelente  \n",
       "3                                                NaN  \n",
       "4                                                NaN  "
      ]
     },
     "execution_count": 5,
     "metadata": {},
     "output_type": "execute_result"
    }
   ],
   "source": [
    "datos.head()"
   ]
  },
  {
   "cell_type": "code",
   "execution_count": 6,
   "id": "676e6c2b-b293-429f-ae9a-73a95576de5b",
   "metadata": {},
   "outputs": [
    {
     "name": "stdout",
     "output_type": "stream",
     "text": [
      "<class 'pandas.core.frame.DataFrame'>\n",
      "RangeIndex: 479343 entries, 0 to 479342\n",
      "Data columns (total 11 columns):\n",
      " #   Column       Non-Null Count   Dtype \n",
      "---  ------       --------------   ----- \n",
      " 0   Id           479343 non-null  int64 \n",
      " 1   N            479343 non-null  int64 \n",
      " 2   place_id     479343 non-null  object\n",
      " 3   name         479343 non-null  object\n",
      " 4   id_review    479343 non-null  object\n",
      " 5   user_name    479343 non-null  object\n",
      " 6   id_usuario   479343 non-null  object\n",
      " 7   stars        479343 non-null  int64 \n",
      " 8   link_review  479343 non-null  object\n",
      " 9   fecha        479343 non-null  object\n",
      " 10  review       233588 non-null  object\n",
      "dtypes: int64(3), object(8)\n",
      "memory usage: 40.2+ MB\n"
     ]
    }
   ],
   "source": [
    "datos.info()"
   ]
  },
  {
   "cell_type": "markdown",
   "id": "b4bd9810-2bc7-456e-a383-10b4245bbb30",
   "metadata": {},
   "source": [
    "### Descripciones de los campos\n",
    "\n",
    "1. Id: Identificador único asignado a cada review de la base de datos. \n",
    "2. N:\n",
    "3. place_id: Identificador único asignado a cada lugar en Google Maps.\n",
    "4. name: Nombre del lugar visitado.\n",
    "5. id_review: Identificador único asignado a cada reseña en Google Maps\n",
    "6. user_name: El nombre de usuario es el nombre del autor de la reseña en Google Maps.\n",
    "7. id_usuario: Identificador del usuario que redactó una reseña en Google Maps.\n",
    "8. stars:  Indica la valoración general del lugar en una escala de estrellas, donde 1 es la calificación más baja y 5 es la más  alta.\n",
    "9. link_review: Enlace al comentario realizado por cada usuario de Google Maps.\n",
    "10. fecha: Fecha cuándo fue publicado el comentario.\n",
    "11. review: Texto del comentario"
   ]
  },
  {
   "cell_type": "markdown",
   "id": "59f29ddc-6735-43dc-98f3-4db7e3d86102",
   "metadata": {},
   "source": [
    "### Análisis exploratorio"
   ]
  },
  {
   "cell_type": "code",
   "execution_count": 8,
   "id": "3c90c30a-0603-4435-b568-1faa5a7cd76a",
   "metadata": {},
   "outputs": [
    {
     "name": "stdout",
     "output_type": "stream",
     "text": [
      "Cantidad de Reviews: 479343\n",
      "Cantidad de Comentarios: 233588\n",
      "Cantidad de Lugares: 1390\n",
      "Cantidad de usuarios únicos: 205836\n"
     ]
    }
   ],
   "source": [
    "print('Cantidad de Reviews: '+str(len(datos)))\n",
    "print('Cantidad de Comentarios: ' + str(len(datos['review'].dropna())))\n",
    "print('Cantidad de Lugares: '+ str(len(datos['place_id'].unique())))\n",
    "print('Cantidad de usuarios únicos: '+str(len(datos['id_usuario'].unique())))"
   ]
  },
  {
   "cell_type": "code",
   "execution_count": null,
   "id": "a12f71a2-6179-43d5-8325-387c43caa28f",
   "metadata": {},
   "outputs": [],
   "source": []
  }
 ],
 "metadata": {
  "kernelspec": {
   "display_name": "NETWORK",
   "language": "python",
   "name": "network"
  },
  "language_info": {
   "codemirror_mode": {
    "name": "ipython",
    "version": 3
   },
   "file_extension": ".py",
   "mimetype": "text/x-python",
   "name": "python",
   "nbconvert_exporter": "python",
   "pygments_lexer": "ipython3",
   "version": "3.13.0"
  }
 },
 "nbformat": 4,
 "nbformat_minor": 5
}
